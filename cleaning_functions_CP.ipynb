{
 "cells": [
  {
   "cell_type": "code",
   "execution_count": 1,
   "metadata": {},
   "outputs": [],
   "source": [
    "import re\n",
    "import time\n",
    "import requests\n",
    "import numpy as np\n",
    "import pandas as pd\n",
    "import os"
   ]
  },
  {
   "cell_type": "code",
   "execution_count": 8,
   "metadata": {},
   "outputs": [
    {
     "name": "stdout",
     "output_type": "stream",
     "text": [
      "advanced-python.txt\n",
      "advanced-visualisation.txt\n",
      "analytics-translation.txt\n",
      "aws-cloud-practitioner.txt\n",
      "blog.txt\n",
      "blog_single.txt\n",
      "build-pipeline.txt\n",
      "contact.txt\n",
      "data-analytics.txt\n",
      "data-engineering.txt\n",
      "data-science-for-executives.txt\n",
      "data-science-for-managers.txt\n",
      "data-science.txt\n",
      "datascience-for-highschool.txt\n",
      "data_explore.txt\n",
      "deep-learning.txt\n",
      "explore-data-science-academy.txt\n",
      "explore-datascience.net.txt\n",
      "faq#Pricingcollapse3.txt\n",
      "faq.txt\n",
      "find-your-course.txt\n",
      "hire-explorer.txt\n",
      "hire-talent.txt\n",
      "home.txt\n",
      "machine-learning.txt\n",
      "money_back_promise.txt\n",
      "our-careers.txt\n",
      "our-courses.txt\n",
      "our-explorers#Faculty.txt\n",
      "our-explorers.txt\n",
      "our-values.txt\n",
      "payment-plans.txt\n",
      "practice-areas.txt\n",
      "reskill-teams.txt\n",
      "software-engineering.txt\n",
      "stories.txt\n",
      "student-reviews.txt\n",
      "summary.txt\n",
      "why-us.txt\n"
     ]
    }
   ],
   "source": [
    "directory = 'txt_files'\n",
    "for filename in os.listdir(directory):\n",
    "    if filename.endswith(\".txt\"):\n",
    "        print(filename)\n",
    "        f = open('txt_files/{}'.format(filename), 'w+')\n",
    "        f.close()"
   ]
  },
  {
   "cell_type": "code",
   "execution_count": 9,
   "metadata": {},
   "outputs": [],
   "source": [
    "f = open('advanced-python.txt', 'w+')"
   ]
  },
  {
   "cell_type": "code",
   "execution_count": 14,
   "metadata": {},
   "outputs": [],
   "source": [
    "string_list = f.readlines()"
   ]
  },
  {
   "cell_type": "code",
   "execution_count": 15,
   "metadata": {},
   "outputs": [
    {
     "data": {
      "text/plain": [
       "[]"
      ]
     },
     "execution_count": 15,
     "metadata": {},
     "output_type": "execute_result"
    }
   ],
   "source": [
    "string_list"
   ]
  },
  {
   "cell_type": "code",
   "execution_count": null,
   "metadata": {},
   "outputs": [],
   "source": []
  }
 ],
 "metadata": {
  "kernelspec": {
   "display_name": "Python 3",
   "language": "python",
   "name": "python3"
  },
  "language_info": {
   "codemirror_mode": {
    "name": "ipython",
    "version": 3
   },
   "file_extension": ".py",
   "mimetype": "text/x-python",
   "name": "python",
   "nbconvert_exporter": "python",
   "pygments_lexer": "ipython3",
   "version": "3.7.3"
  }
 },
 "nbformat": 4,
 "nbformat_minor": 2
}
