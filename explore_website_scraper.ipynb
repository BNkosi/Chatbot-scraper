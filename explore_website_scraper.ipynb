{
 "cells": [
  {
   "cell_type": "markdown",
   "metadata": {},
   "source": [
    "# EDSA WEBSITE SCRAPER"
   ]
  },
  {
   "cell_type": "code",
   "execution_count": 32,
   "metadata": {},
   "outputs": [],
   "source": [
    "import io\n",
    "import re\n",
    "import time\n",
    "import requests\n",
    "import pdfplumber\n",
    "import numpy as np\n",
    "import pandas as pd\n",
    "import urllib.request\n",
    "from io import BytesIO\n",
    "from bs4 import BeautifulSoup"
   ]
  },
  {
   "cell_type": "code",
   "execution_count": 33,
   "metadata": {},
   "outputs": [
    {
     "data": {
      "text/plain": [
       "['https://explore-datascience.net/about-us/our-explorers',\n",
       " 'https://explore-datascience.net/alumni/stories',\n",
       " 'https://explore-datascience.net/long-courses/data-analytics/1',\n",
       " 'https://explore-datascience.net/long-courses/data-science',\n",
       " 'https://explore-datascience.net/',\n",
       " 'https://explore-datascience.net/long-courses/data-science/1',\n",
       " 'https://explore-datascience.net/short-courses/data-science-for-executives',\n",
       " 'https://explore-datascience.net/home/why-us',\n",
       " 'https://explore-datascience.net/home/our-courses',\n",
       " 'https://explore-datascience.net/about-us/our-careers',\n",
       " 'https://explore-datascience.net/home/faq',\n",
       " 'https://explore-datascience.net/long-courses/machine-learning',\n",
       " 'https://explore-datascience.net/about-us/payment-plans',\n",
       " 'https://explore-datascience.net/long-courses/data-engineering/2',\n",
       " 'https://explore-datascience.net/long-courses/software-engineering/1',\n",
       " 'https://explore-datascience.net/short-courses/data-science-for-managers',\n",
       " 'https://explore-datascience.net/long-courses/data-analytics',\n",
       " 'https://explore-datascience.net/alumni/hire-explorer',\n",
       " 'https://explore-datascience.net/pdf/EDSA_Course_Outline.pdf?12.4',\n",
       " 'https://explore-datascience.net/long-courses/software-engineering/2',\n",
       " 'https://explore-datascience.net/alumni/student-reviews',\n",
       " 'https://twitter.com/data_explore',\n",
       " 'https://explore-datascience.net/long-courses/data-science/2',\n",
       " 'https://explore-datascience.net/long-courses/machine-learning/2',\n",
       " 'https://explore-datascience.net/long-courses/software-engineering',\n",
       " 'https://explore-datascience.net/short-courses/analytics-translation',\n",
       " 'https://explore-datascience.net/long-courses/data-analytics/2',\n",
       " 'https://explore-datascience.net/long-courses/machine-learning/1',\n",
       " 'https://explore-datascience.net/long-courses/data-engineering',\n",
       " 'https://explore-datascience.net/enterprise/reskill-teams',\n",
       " 'https://explore-datascience.net/long-courses/data-engineering/1',\n",
       " 'https://explore-datascience.net/enterprise/hire-talent',\n",
       " 'https://explore-datascience.net/home/money_back_promise',\n",
       " 'https://explore-datascience.net/enterprise/summary',\n",
       " 'https://explore-datascience.net/enterprise/build-pipeline',\n",
       " 'https://explore-datascience.net/home/contact',\n",
       " 'https://www.linkedin.com/company/explore-data-science-academy',\n",
       " 'https://explore-datascience.net/short-courses/advanced-visualisation',\n",
       " 'https://explore-datascience.net/about-us/practice-areas',\n",
       " 'https://explore-datascience.net/short-courses/datascience-for-highschool',\n",
       " 'https://explore-datascience.net/short-courses/aws-cloud-practitioner',\n",
       " 'https://explore-datascience.net/short-courses/advanced-python',\n",
       " 'https://www.facebook.com/explore.datascience/?business_id=168001153773832',\n",
       " 'https://explore-datascience.net/about-us/our-values',\n",
       " 'https://explore-datascience.net/short-courses/deep-learning',\n",
       " 'https://explore-datascience.net/home/blog',\n",
       " 'https://explore-datascience.net/about-us/our-explorers#Faculty',\n",
       " 'https://explore-datascience.net/find-your-course',\n",
       " 'https://explore-datascience.net/short-courses/machine-learning']"
      ]
     },
     "execution_count": 33,
     "metadata": {},
     "output_type": "execute_result"
    }
   ],
   "source": [
    "# Open website home page\n",
    "URL = 'https://explore-datascience.net/'\n",
    "page = requests.get(URL)\n",
    "soup = BeautifulSoup(page.content, 'html.parser')\n",
    "\n",
    "# Extract all urls from the website page\n",
    "def get_urls(soup):\n",
    "    urls = []\n",
    "    for link in soup.find_all('a'):\n",
    "        if link.get('href') != None:\n",
    "            urls.append(link.get('href'))\n",
    "    urls = [x for x in urls if 'https' in x]\n",
    "    urls = list(set(urls))\n",
    "    return urls\n",
    "\n",
    "urls_list = get_urls(soup)\n",
    "urls_list"
   ]
  },
  {
   "cell_type": "code",
   "execution_count": 34,
   "metadata": {},
   "outputs": [],
   "source": [
    "def website_links(urls_list):\n",
    "    urls = [x for x in urls_list if '.pdf' not in x]\n",
    "    pdfs = [x for x in urls_list if '.pdf' in x]\n",
    "    new_urls = []\n",
    "    for i in range(len(urls)):\n",
    "        page = requests.get(urls[i])\n",
    "        soup = BeautifulSoup(page.content, 'html.parser')\n",
    "        pg_urls = get_urls(soup)\n",
    "        if len(pg_urls) > 0:\n",
    "            pdfs.extend([x for x in pg_urls if '.pdf' in x and x not in pdfs])\n",
    "            new_urls.extend([x for x in pg_urls if x not in urls \n",
    "                             and x not in new_urls \n",
    "                             and x not in pdfs \n",
    "                             and 'explore-datascience' in x])\n",
    "    urls.extend(new_urls)\n",
    "    return urls, len(new_urls), pdfs"
   ]
  },
  {
   "cell_type": "code",
   "execution_count": 36,
   "metadata": {},
   "outputs": [],
   "source": [
    "# Extract all URLs and PDFs from the website.\n",
    "urls, new_urls, pdfs = website_links(urls_list)\n",
    "if new_urls > 0:\n",
    "    urls, new_urls, pdfs = website_links(urls_list)"
   ]
  },
  {
   "cell_type": "code",
   "execution_count": null,
   "metadata": {},
   "outputs": [],
   "source": [
    "# Scrape text data from the website (this excludes the PDFs)\n",
    "for i in range(len(urls)):\n",
    "    page = requests.get(urls[i])\n",
    "    soup = BeautifulSoup(page.content, 'html.parser')\n",
    "    f= open(\"page_{}.txt\".format(i),\"w+\")\n",
    "    for items in soup.find_all('section'):\n",
    "        data = '\\n'.join([item.text for item in items.find_all(['h2', 'h3','p', 'li'])])\n",
    "        f.write(data)\n",
    "    f.close()\n",
    "    print('Completed {0} of {1}'.format(i+1, len(urls)))"
   ]
  },
  {
   "cell_type": "code",
   "execution_count": 37,
   "metadata": {
    "scrolled": false
   },
   "outputs": [
    {
     "name": "stdout",
     "output_type": "stream",
     "text": [
      "https://explore-datascience.net/pdf/EDSA_Course_Outline.pdf?12.4\n",
      "https://explore-datascience.net/pdf/Data_Analytics.pdf\n",
      "https://explore-datascience.net/pdf/EDSA_Course_Outline.pdf\n",
      "https://explore-datascience.net/pdf/Data_Science.pdf\n",
      "https://explore-datascience.net/pdf/Full_Syllbus_DS_for_Executives_Mar_2020.pdf\n",
      "https://explore-datascience.net/pdf/Machine_Learning_Analysts_Short.pdf\n",
      "https://explore-datascience.net/pdf/careers/Senior_Data_Scientist.pdf\n",
      "https://explore-datascience.net/pdf/careers/Senior_Data_Engineer.pdf\n",
      "https://explore-datascience.net/pdf/Machine_Learning_for_Analysts.pdf\n",
      "https://explore-datascience.net/pdf/Data_Engineering.pdf\n",
      "https://explore-datascience.net/pdf/Full_Syllbus_DS_for_Managers_Mar_2020.pdf\n",
      "https://explore-datascience.net/pdf/Data_Science_Managers_Short.pdf\n",
      "https://explore-datascience.net/pdf/Advanced_Python_Short.pdf\n",
      "https://explore-datascience.net/pdf/Explore_Course_Catalogue.pdf\n",
      "https://explore-datascience.net/pdf/Advanced_Visualisation_Short.pdf\n",
      "https://explore-datascience.net/pdf/Data_Science_High_School_Short.pdf\n",
      "https://explore-datascience.net/pdf/aws_cloud_practitioner_short.pdf\n",
      "https://explore-datascience.net/pdf/Deep_Learning_AI.pdf\n",
      "https://explore-datascience.net/pdf/Insights_Led_Organisation.pdf\n",
      "https://explore-datascience.net/pdf/How to Structure Your Data Science Capability.pdf\n",
      "https://explore-datascience.net/pdf/Investing_in_LandD.pdf\n",
      "https://explore-datascience.net/pdf/A Data Science Team.pdf\n",
      "https://explore-datascience.net/pdf/Ogranization_Data_Maturity.pdf\n",
      "https://explore-datascience.net/pdf/Machine_Learning_for_Analysts_Short.pdf\n"
     ]
    }
   ],
   "source": [
    "for i in pdfs:\n",
    "    print(i)"
   ]
  },
  {
   "cell_type": "code",
   "execution_count": 39,
   "metadata": {},
   "outputs": [],
   "source": [
    "pdfs = ['https://explore-datascience.net/pdf/EDSA_Course_Outline.pdf?12.4',\n",
    " 'https://explore-datascience.net/pdf/Data_Analytics.pdf',\n",
    " 'https://explore-datascience.net/pdf/EDSA_Course_Outline.pdf',\n",
    " 'https://explore-datascience.net/pdf/Data_Science.pdf',\n",
    " 'https://explore-datascience.net/pdf/Full_Syllbus_DS_for_Executives_Mar_2020.pdf',\n",
    " 'https://explore-datascience.net/pdf/Machine_Learning_Analysts_Short.pdf',\n",
    " 'https://explore-datascience.net/pdf/careers/Senior_Data_Scientist.pdf',\n",
    " 'https://explore-datascience.net/pdf/careers/Senior_Data_Engineer.pdf',\n",
    " 'https://explore-datascience.net/pdf/Machine_Learning_for_Analysts.pdf',\n",
    " 'https://explore-datascience.net/pdf/Data_Engineering.pdf',\n",
    " 'https://explore-datascience.net/pdf/Full_Syllbus_DS_for_Managers_Mar_2020.pdf',\n",
    " 'https://explore-datascience.net/pdf/Data_Science_Managers_Short.pdf',\n",
    " 'https://explore-datascience.net/pdf/Advanced_Python_Short.pdf',\n",
    " 'https://explore-datascience.net/pdf/Explore_Course_Catalogue.pdf',\n",
    " 'https://explore-datascience.net/pdf/Advanced_Visualisation_Short.pdf',\n",
    " 'https://explore-datascience.net/pdf/Data_Science_High_School_Short.pdf',\n",
    " #'https://explore-datascience.net/pdf/aws_cloud_practitioner_short.pdf',\n",
    " 'https://explore-datascience.net/pdf/Deep_Learning_AI.pdf',\n",
    " 'https://explore-datascience.net/pdf/Insights_Led_Organisation.pdf',\n",
    " 'https://explore-datascience.net/pdf/How to Structure Your Data Science Capability.pdf',\n",
    " 'https://explore-datascience.net/pdf/Investing_in_LandD.pdf',\n",
    " 'https://explore-datascience.net/pdf/A Data Science Team.pdf',\n",
    " 'https://explore-datascience.net/pdf/Ogranization_Data_Maturity.pdf',\n",
    " 'https://explore-datascience.net/pdf/Machine_Learning_for_Analysts_Short.pdf']"
   ]
  },
  {
   "cell_type": "code",
   "execution_count": 40,
   "metadata": {
    "scrolled": false
   },
   "outputs": [
    {
     "name": "stdout",
     "output_type": "stream",
     "text": [
      "EDSA_Course_Outline\n",
      "Data_Analytics\n",
      "EDSA_Course_Outline\n",
      "Data_Science\n",
      "Full_Syllbus_DS_for_Executives_Mar_2020\n",
      "Machine_Learning_Analysts_Short\n",
      "Senior_Data_Scientist\n",
      "Senior_Data_Engineer\n",
      "Machine_Learning_for_Analysts\n",
      "Data_Engineering\n",
      "Full_Syllbus_DS_for_Managers_Mar_2020\n",
      "Data_Science_Managers_Short\n",
      "Advanced_Python_Short\n",
      "Explore_Course_Catalogue\n",
      "Advanced_Visualisation_Short\n",
      "Data_Science_High_School_Short\n",
      "Deep_Learning_AI\n",
      "Insights_Led_Organisation\n",
      "How to Structure Your Data Science Capability\n",
      "Investing_in_LandD\n",
      "A Data Science Team\n",
      "Ogranization_Data_Maturity\n",
      "Machine_Learning_for_Analysts_Short\n"
     ]
    }
   ],
   "source": [
    "# Scrape text data from the PDFs\n",
    "for i in pdfs:\n",
    "    rq = requests.get(i)\n",
    "    pdf = pdfplumber.open(BytesIO(rq.content))\n",
    "    name = \"\".join(re.findall(r'pdf/(.*?).pdf', str(i)))\n",
    "    name = name.replace('careers/', '')\n",
    "    myfile = io.open(name + \".txt\", \"w\", encoding=\"utf-8\")\n",
    "    for i in range(len(pdf.pages)):\n",
    "        p = pdf.pages[i]\n",
    "        text = p.extract_text()\n",
    "        myfile.write(str(text)+\"\\n \")\n",
    "    myfile.close()\n",
    "    print(name)"
   ]
  }
 ],
 "metadata": {
  "kernelspec": {
   "display_name": "Python 3",
   "language": "python",
   "name": "python3"
  },
  "language_info": {
   "codemirror_mode": {
    "name": "ipython",
    "version": 3
   },
   "file_extension": ".py",
   "mimetype": "text/x-python",
   "name": "python",
   "nbconvert_exporter": "python",
   "pygments_lexer": "ipython3",
   "version": "3.7.4"
  }
 },
 "nbformat": 4,
 "nbformat_minor": 2
}
